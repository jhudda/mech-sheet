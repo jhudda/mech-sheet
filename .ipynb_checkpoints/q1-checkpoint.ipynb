{
 "cells": [
  {
   "cell_type": "markdown",
   "id": "0fb23887-52a7-4172-8097-026483f7578d",
   "metadata": {},
   "source": [
    "# Mechanics Sheet Question 1"
   ]
  },
  {
   "cell_type": "code",
   "execution_count": 1,
   "id": "eccb7196-5f5d-495b-80c2-73d0325b7847",
   "metadata": {},
   "outputs": [],
   "source": [
    "# Importing useful libraries, setting plot styles\n",
    "import numpy as np\n",
    "import matplotlib.pyplot as plt\n",
    "from scipy.integrate import odeint\n",
    "\n",
    "plt.rcParams['text.usetex'] = True # Plots have LaTeX\n",
    "plt.style.use('seaborn-v0_8-whitegrid') # Plots look better (in my opinion)"
   ]
  },
  {
   "cell_type": "markdown",
   "id": "a654b632-0517-4e4d-8597-31474248db43",
   "metadata": {},
   "source": [
    "For part A, I'm a little confused as to whether I could just use some inbuilt ODE solver from Scipy, so I think I'll just do a bit of both that and also writing my own solver."
   ]
  },
  {
   "cell_type": "code",
   "execution_count": 3,
   "id": "0f68ebc7-d6af-4b59-97aa-b6afe64075b9",
   "metadata": {},
   "outputs": [],
   "source": [
    "# Part A\n",
    "l = 0.1\n",
    "g = 9.8\n",
    "omega = np.sqrt(g / l)\n",
    "theta_0 = 30 * np.pi / 180 # Converted to radians"
   ]
  },
  {
   "cell_type": "markdown",
   "id": "cec38993-f2c4-4322-a6cb-e748acd4b88f",
   "metadata": {},
   "source": [
    "I think I will try a Verlet method. We have an ODE \n",
    "$$\\ddot{\\theta} = -\\omega^2 \\theta$$\n",
    "with an initial condition $\\theta(0) = \\theta_0$, $\\dot{\\theta}(0) = 0$. For this method, we first define some time step $\\Delta t$, and a number $N$ of these time steps over which the process is evaluated. For this question, we require $N \\Delta t = 20$s. \n",
    "\n",
    "Firstly, for convenience in following formulae, we denote $\\theta(n \\Delta t) \\equiv \\theta_n$.\n",
    "We then compute $\\theta_1 = \\theta_0 - \\frac{1}{2}\\omega^2 \\sin \\theta_0 (\\Delta t)^2$, and then for $n = 1, \\dots, N - 1$, compute:\n",
    "$$\\theta_{n+1} = 2 \\theta_n - \\theta_{n-1} - \\frac{1}{2}\\omega^2 \\sin \\theta_n (\\Delta t)^2$$"
   ]
  },
  {
   "cell_type": "code",
   "execution_count": null,
   "id": "9b313581-f2a1-44a4-8db7-a758ba59a6b3",
   "metadata": {},
   "outputs": [],
   "source": [
    "# Create a vector of times\n",
    "N = 100 # Number of times iterated over\n",
    "t = np.linspace(0, 20, N)\n",
    "delta_t = t[1] - t[0]\n",
    "theta = np.zeros(1, )\n",
    "\n"
   ]
  }
 ],
 "metadata": {
  "kernelspec": {
   "display_name": "Python 3 (ipykernel)",
   "language": "python",
   "name": "python3"
  },
  "language_info": {
   "codemirror_mode": {
    "name": "ipython",
    "version": 3
   },
   "file_extension": ".py",
   "mimetype": "text/x-python",
   "name": "python",
   "nbconvert_exporter": "python",
   "pygments_lexer": "ipython3",
   "version": "3.12.4"
  }
 },
 "nbformat": 4,
 "nbformat_minor": 5
}
